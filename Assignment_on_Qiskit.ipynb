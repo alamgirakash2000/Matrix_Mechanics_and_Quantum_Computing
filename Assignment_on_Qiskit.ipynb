{
 "cells": [
  {
   "cell_type": "markdown",
   "id": "b1f282c2",
   "metadata": {},
   "source": [
    "<h1 align=\"center\"> Assignment on Qiskit </h1>"
   ]
  },
  {
   "cell_type": "markdown",
   "id": "75463e0b",
   "metadata": {},
   "source": [
    "This is notebook is for the final assignment of the course titled ***[Online Quantum Mechanics & Quantum Computing: Theory, COMSOL Simulation & Coding](https://sites.google.com/view/onlinecoursebymdy/quantum-mechanics-quantum-computing-theory-comsol-simulation-coding?authuser=0)***. There are total three problems in this assignment."
   ]
  },
  {
   "cell_type": "code",
   "execution_count": 1,
   "id": "4031950e",
   "metadata": {},
   "outputs": [],
   "source": [
    "# Installing Libraries\n",
    "!pip install qiskit pylatexenc --quiet\n",
    "!pip install qiskit.ignis --quiet"
   ]
  },
  {
   "cell_type": "code",
   "execution_count": 2,
   "id": "4651bc3f",
   "metadata": {},
   "outputs": [
    {
     "name": "stderr",
     "output_type": "stream",
     "text": [
      "C:\\Users\\alamg\\AppData\\Local\\Temp/ipykernel_14656/3069722418.py:9: DeprecationWarning: The qiskit.ignis package is deprecated and has been supersceded by the qiskit-experiments project. Refer to the migration guide: https://github.com/Qiskit/qiskit-ignis#migration-guide on how to migrate to the new project.\n",
      "  from qiskit.ignis.verification import marginal_counts\n"
     ]
    }
   ],
   "source": [
    "# Importing Libraries\n",
    "from qiskit import *\n",
    "from qiskit.tools.monitor import  job_monitor\n",
    "from qiskit.tools.visualization import plot_state_qsphere\n",
    "from qiskit.visualization import plot_histogram, plot_bloch_multivector, array_to_latex\n",
    "\n",
    "import numpy as np\n",
    "from qiskit.extensions import Initialize\n",
    "from qiskit.ignis.verification import marginal_counts\n",
    "from qiskit.quantum_info import random_statevector\n",
    "\n",
    "# For Error\n",
    "from qiskit.providers.aer.noise import NoiseModel\n",
    "from qiskit.providers.aer.noise.errors import pauli_error\n",
    "\n",
    "import warnings\n",
    "warnings.filterwarnings('ignore')"
   ]
  },
  {
   "cell_type": "markdown",
   "id": "66961eed",
   "metadata": {},
   "source": [
    "## Problem statement - 01\n",
    "Initialize a one qubit circuit with state (|0⟩ + 𝑖|1⟩)/√2. Measure the state in X and Y basis\n",
    "respectively. Qiskit by default can measure in Z basis. So, modify your circuit according\n",
    "to it. Also explain the reason behind the modification by finding the unitary matrix (using\n",
    "Qiskit). Can you relate the measurement result of these two cases with any quantum\n",
    "theory? Explain briefly. You must explain each step on your own. Copying is strictly\n",
    "prohibited"
   ]
  },
  {
   "cell_type": "code",
   "execution_count": null,
   "id": "7fc678d5",
   "metadata": {},
   "outputs": [],
   "source": []
  },
  {
   "cell_type": "code",
   "execution_count": null,
   "id": "a748ea5f",
   "metadata": {},
   "outputs": [],
   "source": []
  },
  {
   "cell_type": "markdown",
   "id": "09dcafa5",
   "metadata": {},
   "source": [
    "## Problem Statement - 02\n",
    "Create a 3-qubit circuit and use H and CX gates to make the overall state\n",
    "(|000⟩ + |111⟩)/√2. Now apply measurement in all qubits and run on both simulator and\n",
    "real device. Apply measurement error mitigation with weak noise & explain your\n",
    "understanding in each step. You must explain each step on your own. Copying is\n",
    "strictly prohibited"
   ]
  },
  {
   "cell_type": "code",
   "execution_count": null,
   "id": "f35debaa",
   "metadata": {},
   "outputs": [],
   "source": []
  },
  {
   "cell_type": "code",
   "execution_count": null,
   "id": "3650332f",
   "metadata": {},
   "outputs": [],
   "source": []
  },
  {
   "cell_type": "markdown",
   "id": "63cc4fef",
   "metadata": {},
   "source": [
    "## Problem Statement - 03\n",
    "In this problem, instead of Bell States, we will use the following bipartite entangled states:\n",
    "|𝑃±⟩ = 1\n",
    "√2 (|00⟩ ± 𝑖|11⟩) and |𝑄±⟩ = √12 (|01⟩ ± 𝑖|10⟩)\n",
    "Alice has qubits C & A; Bob has qubit B. Qubit A & B are initially entangled with state |𝑄−⟩\n",
    "and the Qubit C stores the state |𝐶⟩ = (√23 |0⟩ + 2𝑖 |1⟩), but obviously Alice doesn’t know\n",
    "that. Now, Alice will make a teleportation circuit to teleport the state of C to B, by using\n",
    "measurement in {|𝑃+⟩, |𝑃−⟩, |𝑄+⟩, |𝑄−⟩} basis and classical communication. Bob will\n",
    "perform certain local operations requested by Alice to make the teleportation possible.\n",
    "Now your task is to make the circuit of the whole process using Qiskit. You must follow\n",
    "the following instructions during the implementation:\n",
    "\n",
    "- (i) You cannot use circuit initialization. Use Unitary gates to establish |𝐶⟩ and |𝑄−⟩\n",
    "states. You may need to design an alternative measurement method since Qiskit\n",
    "only supports computational basis measurement.\n",
    "- (ii) Name the qubits as C, A, B instead of q2, q1, q0 respectively.\n",
    "- (iii) Suppose you applied unitary U to generate |𝐶⟩ state from |0⟩. Apply the inverse of\n",
    "U in qubit B after the teleportation is complete. If your circuit is right, then after that\n",
    "the state of B will always be |0⟩ (there maybe some global phase, but no need to\n",
    "worry about that).\n",
    "\n",
    "You must explain each step on your own. Copying is strictly prohibited."
   ]
  },
  {
   "cell_type": "code",
   "execution_count": null,
   "id": "4ae501d7",
   "metadata": {},
   "outputs": [],
   "source": []
  },
  {
   "cell_type": "code",
   "execution_count": null,
   "id": "679b0d4f",
   "metadata": {},
   "outputs": [],
   "source": []
  }
 ],
 "metadata": {
  "kernelspec": {
   "display_name": "Python 3 (ipykernel)",
   "language": "python",
   "name": "python3"
  },
  "language_info": {
   "codemirror_mode": {
    "name": "ipython",
    "version": 3
   },
   "file_extension": ".py",
   "mimetype": "text/x-python",
   "name": "python",
   "nbconvert_exporter": "python",
   "pygments_lexer": "ipython3",
   "version": "3.9.7"
  }
 },
 "nbformat": 4,
 "nbformat_minor": 5
}
