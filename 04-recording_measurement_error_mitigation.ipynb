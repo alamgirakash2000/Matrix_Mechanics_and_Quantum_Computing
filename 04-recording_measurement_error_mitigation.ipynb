{
 "cells": [
  {
   "cell_type": "markdown",
   "id": "2088dc9a",
   "metadata": {},
   "source": [
    "<h1 align=\"center\"> Recording Measurement Error Mitigation </h1>"
   ]
  },
  {
   "cell_type": "code",
   "execution_count": 1,
   "id": "0f15d8c8",
   "metadata": {},
   "outputs": [],
   "source": [
    "# Installing Libraries\n",
    "!pip install qiskit pylatexenc --quiet\n",
    "!pip install qiskit.ignis --quiet"
   ]
  },
  {
   "cell_type": "code",
   "execution_count": 6,
   "id": "dfb6bb3b",
   "metadata": {},
   "outputs": [],
   "source": [
    "# Importing Libraries\n",
    "from qiskit import *\n",
    "from qiskit.tools.monitor import  job_monitor\n",
    "from qiskit.tools.visualization import plot_state_qsphere\n",
    "from qiskit.visualization import plot_histogram, plot_bloch_multivector, array_to_latex\n",
    "\n",
    "import numpy as np\n",
    "from qiskit.extensions import Initialize\n",
    "from qiskit.ignis.verification import marginal_counts\n",
    "from qiskit.quantum_info import random_statevector\n",
    "\n",
    "# For Error\n",
    "from qiskit.providers.aer.noise import NoiseModel\n",
    "from qiskit.providers.aer.noise.errors import pauli_error\n",
    "\n",
    "import warnings\n",
    "warnings.filterwarnings('ignore')"
   ]
  },
  {
   "cell_type": "markdown",
   "id": "af7dfef8",
   "metadata": {},
   "source": [
    "## Noise Model Function"
   ]
  },
  {
   "cell_type": "code",
   "execution_count": 7,
   "id": "799f9574",
   "metadata": {},
   "outputs": [],
   "source": [
    "def get_noise(p):\n",
    "    error_measure = pauli_error([(\"X\",p), (\"I\", 1-p)])\n",
    "    noise_model = NoiseModel()\n",
    "    \n",
    "    # apply measurement error to noise model\n",
    "    noise_model.add_all_qubit_quantum_error(error_measure, \"measure\")\n",
    "    \n",
    "    return noise_model"
   ]
  },
  {
   "cell_type": "markdown",
   "id": "f2c57d2f",
   "metadata": {},
   "source": [
    "## Create Noise Model"
   ]
  },
  {
   "cell_type": "code",
   "execution_count": 8,
   "id": "5adfcef2",
   "metadata": {},
   "outputs": [],
   "source": [
    "noise_model = get_noise(0.01)  # 1% chance of error"
   ]
  },
  {
   "cell_type": "markdown",
   "id": "e73db924",
   "metadata": {},
   "source": [
    "## Effects of Noise Model"
   ]
  },
  {
   "cell_type": "markdown",
   "id": "b3c63e25",
   "metadata": {},
   "source": [
    "### Without noise Model"
   ]
  },
  {
   "cell_type": "code",
   "execution_count": 10,
   "id": "d3843f4d",
   "metadata": {},
   "outputs": [
    {
     "name": "stdout",
     "output_type": "stream",
     "text": [
      "00 becomes  {'00': 10000}\n",
      "01 becomes  {'01': 10000}\n",
      "10 becomes  {'10': 10000}\n",
      "11 becomes  {'11': 10000}\n"
     ]
    }
   ],
   "source": [
    "\n",
    "all_state = ['00', '01', '10', '11']\n",
    "\n",
    "for state in all_state:\n",
    "    qc = QuantumCircuit(2,2)\n",
    "    \n",
    "    if state[0] == '1':\n",
    "        qc.x(1)\n",
    "    if state[1] == '1':\n",
    "        qc.x(0)\n",
    "    \n",
    "    qc.measure([0,1],[0,1])\n",
    "    \n",
    "    # Run on Simulator\n",
    "    simulator = Aer.get_backend('aer_simulator')     # Select Simulator\n",
    "    t_tc = transpile(qc, simulator)\n",
    "    qobj = assemble(t_tc, shots =10000)                    \n",
    "    counts = simulator.run(qobj, noise_model=None).result().get_counts()\n",
    "    print(state + ' becomes ', counts)"
   ]
  },
  {
   "cell_type": "markdown",
   "id": "4a266e42",
   "metadata": {},
   "source": [
    "### Without Noise Model"
   ]
  },
  {
   "cell_type": "code",
   "execution_count": 12,
   "id": "40b21ce2",
   "metadata": {},
   "outputs": [
    {
     "name": "stdout",
     "output_type": "stream",
     "text": [
      "00 becomes  {'00': 9779, '01': 113, '10': 106, '11': 2}\n",
      "01 becomes  {'01': 9789, '00': 107, '11': 103, '10': 1}\n",
      "10 becomes  {'10': 9792, '11': 105, '00': 103}\n",
      "11 becomes  {'11': 9794, '01': 102, '10': 103, '00': 1}\n"
     ]
    }
   ],
   "source": [
    "all_state = ['00', '01', '10', '11']\n",
    "\n",
    "for state in all_state:\n",
    "    qc = QuantumCircuit(2,2)\n",
    "    \n",
    "    if state[0] == '1':\n",
    "        qc.x(1)\n",
    "    if state[1] == '1':\n",
    "        qc.x(0)\n",
    "    \n",
    "    qc.measure([0,1],[0,1])\n",
    "    \n",
    "    # Run on Simulator\n",
    "    simulator = Aer.get_backend('aer_simulator')     # Select Simulator\n",
    "    t_tc = transpile(qc, simulator)\n",
    "    qobj = assemble(t_tc, shots =10000)                    \n",
    "    counts = simulator.run(qobj, noise_model=noise_model).result().get_counts()\n",
    "    print(state + ' becomes ', counts)"
   ]
  },
  {
   "cell_type": "code",
   "execution_count": null,
   "id": "04726bac",
   "metadata": {},
   "outputs": [],
   "source": []
  }
 ],
 "metadata": {
  "kernelspec": {
   "display_name": "Python 3 (ipykernel)",
   "language": "python",
   "name": "python3"
  },
  "language_info": {
   "codemirror_mode": {
    "name": "ipython",
    "version": 3
   },
   "file_extension": ".py",
   "mimetype": "text/x-python",
   "name": "python",
   "nbconvert_exporter": "python",
   "pygments_lexer": "ipython3",
   "version": "3.9.7"
  }
 },
 "nbformat": 4,
 "nbformat_minor": 5
}
